{
 "cells": [
  {
   "cell_type": "markdown",
   "id": "143753e0-ccf1-4bfd-8ddf-ccd93a2a1d36",
   "metadata": {},
   "source": [
    "## Create a Python function called `calculator` that takes three parameters:\n",
    "1. `num1`: a float representing the first number\n",
    "2. `num2`: a float representing the second number\n",
    "3. `operator`: a string representing the arithmetic operation to perform\n",
    "The function should perform the specified arithmetic operation on the two numbers and return the result. The supported operations are:\n",
    "\n",
    "Addition ('+')\n",
    "Subtraction ('-')\n",
    "Multiplication ('*')\n",
    "Division ('/')\n",
    "\n",
    "Requirements:\n",
    "\n",
    "Handle division by zero by returning the string \"Error: Division by zero\"\n",
    "Round the result to 2 decimal places\n",
    "If an unsupported operator is provided, return the string \"Error: Invalid operator\"\n",
    "\n",
    "Test your function with various inputs to ensure it works correctly."
   ]
  },
  {
   "cell_type": "code",
   "execution_count": 2,
   "id": "dd391d61-b3d3-420a-a1c3-2c881bc97a8e",
   "metadata": {},
   "outputs": [],
   "source": []
  },
  {
   "cell_type": "markdown",
   "id": "a6614938-29d6-46ca-827c-0c2f773ae163",
   "metadata": {},
   "source": [
    "## Write a Python function called `calculate_expression` that takes three parameters:\n",
    "1. `num1`: a float representing the first number\n",
    "2. `num2`: a float representing the second number\n",
    "3. `operator`: a string representing the arithmetic operation to perform ('+', '-', '*', or '/')\n",
    "The function should perform the specified arithmetic operation on the two numbers and return the result. If the operator is not one of the four basic arithmetic operators, the function should return the string \"Invalid operator\".\n",
    "Requirements:\n",
    "\n",
    "Handle division by zero by returning the string \"Cannot divide by zero\"\n",
    "Round the result to 2 decimal places for all operations\n",
    "Use a conditional statement (if-elif-else) to handle different operators\n",
    "\n",
    "Example usage:\n",
    "print(calculate_expression(5, 3, '+'))  # Should output 8.00\n",
    "print(calculate_expression(10, 4, '-'))  # Should output 6.00\n",
    "print(calculate_expression(3, 7, '*'))  # Should output 21.00\n",
    "print(calculate_expression(15, 3, '/'))  # Should output 5.00\n",
    "print(calculate_expression(10, 0, '/'))  # Should output \"Cannot divide by zero\"\n",
    "print(calculate_expression(5, 3, '%'))  # Should output \"Invalid operator\""
   ]
  },
  {
   "cell_type": "code",
   "execution_count": 8,
   "id": "946ed1bd-b93c-4f4d-8bec-c5846ac6932c",
   "metadata": {},
   "outputs": [
    {
     "name": "stdout",
     "output_type": "stream",
     "text": [
      "None\n",
      "None\n",
      "None\n",
      "None\n",
      "None\n",
      "None\n"
     ]
    }
   ],
   "source": [
    "def calculate_expression(num1, num2, operator):\n",
    "    return\n",
    "\n",
    "print(calculate_expression(5, 3, '+'))  \n",
    "print(calculate_expression(10, 4, '-'))  \n",
    "print(calculate_expression(3, 7, '*'))  \n",
    "print(calculate_expression(15, 3, '/')) \n",
    "print(calculate_expression(10, 0, '/'))  \n",
    "print(calculate_expression(5, 3, '%')) \n",
    "    "
   ]
  },
  {
   "cell_type": "code",
   "execution_count": null,
   "id": "2c352d73-b6d0-43a5-95ae-1e7d0039f90c",
   "metadata": {},
   "outputs": [],
   "source": []
  }
 ],
 "metadata": {
  "kernelspec": {
   "display_name": "Python 3 (ipykernel)",
   "language": "python",
   "name": "python3"
  },
  "language_info": {
   "codemirror_mode": {
    "name": "ipython",
    "version": 3
   },
   "file_extension": ".py",
   "mimetype": "text/x-python",
   "name": "python",
   "nbconvert_exporter": "python",
   "pygments_lexer": "ipython3",
   "version": "3.12.5"
  }
 },
 "nbformat": 4,
 "nbformat_minor": 5
}
